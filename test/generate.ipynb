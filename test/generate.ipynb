{
 "cells": [
  {
   "cell_type": "code",
   "execution_count": 58,
   "metadata": {},
   "outputs": [],
   "source": [
    "from collections import Counter\n",
    "from sklearn.datasets.samples_generator import make_blobs\n",
    "import matplotlib.pyplot as plt\n",
    "from mpl_toolkits.mplot3d import Axes3D\n",
    "%matplotlib inline"
   ]
  },
  {
   "cell_type": "code",
   "execution_count": 180,
   "metadata": {},
   "outputs": [],
   "source": [
    "def generate(**kwargs):\n",
    "    # n_samples=10000, n_features=3, cluster_std=1.1, centers=centers\n",
    "    points, classes = make_blobs(shuffle=True, random_state=42, **kwargs)\n",
    "    return points, classes"
   ]
  },
  {
   "cell_type": "code",
   "execution_count": 243,
   "metadata": {},
   "outputs": [
    {
     "name": "stdout",
     "output_type": "stream",
     "text": [
      "(1000000, 3) Counter({0: 500000, 1: 500000})\n"
     ]
    }
   ],
   "source": [
    "points, classes = generate(n_samples=1000000, n_features=3, cluster_std=65, centers=[(-200, 300, -7), (100, -25, -30)])\n",
    "print points.shape, Counter(classes)"
   ]
  },
  {
   "cell_type": "code",
   "execution_count": 244,
   "metadata": {},
   "outputs": [],
   "source": [
    "def show_2d_points(points, classes):\n",
    "    for cc in set(classes):\n",
    "        pc = [p for p, c in zip(points, classes) if c == cc]\n",
    "        plt.scatter(*zip(*pc))\n",
    "    plt.show()\n",
    "\n",
    "def show_3d_points(points, classes):\n",
    "    fig = plt.figure()\n",
    "    ax = Axes3D(fig)\n",
    "    for cc in set(classes):\n",
    "        pc = [p for p, c in zip(points, classes) if c == cc]\n",
    "        x, y, z = zip(*pc)\n",
    "        ax.scatter(x, y, z)\n",
    "    plt.show()"
   ]
  },
  {
   "cell_type": "code",
   "execution_count": 245,
   "metadata": {},
   "outputs": [],
   "source": [
    "# show_2d_points(points, classes)\n",
    "# show_3d_points(points, classes)"
   ]
  },
  {
   "cell_type": "code",
   "execution_count": 246,
   "metadata": {},
   "outputs": [],
   "source": [
    "def save_points(points, classes, file_path):\n",
    "    with open(file_path, 'w') as outf:\n",
    "        outf.write(u'{} {}\\n'.format(len(points), len(set(classes))))\n",
    "        for p, c in zip(points, classes):\n",
    "            outf.write(u'{},{}\\n'.format(u','.join(map(str, p)), c))"
   ]
  },
  {
   "cell_type": "code",
   "execution_count": 247,
   "metadata": {},
   "outputs": [],
   "source": [
    "save_points(points, classes, '/home/kolegor/classification.3d.big.not_linear_separable.txt')"
   ]
  },
  {
   "cell_type": "code",
   "execution_count": null,
   "metadata": {},
   "outputs": [],
   "source": []
  }
 ],
 "metadata": {
  "kernelspec": {
   "display_name": "Python 2",
   "language": "python",
   "name": "python2"
  },
  "language_info": {
   "codemirror_mode": {
    "name": "ipython",
    "version": 2
   },
   "file_extension": ".py",
   "mimetype": "text/x-python",
   "name": "python",
   "nbconvert_exporter": "python",
   "pygments_lexer": "ipython2",
   "version": "2.7.12"
  }
 },
 "nbformat": 4,
 "nbformat_minor": 2
}
