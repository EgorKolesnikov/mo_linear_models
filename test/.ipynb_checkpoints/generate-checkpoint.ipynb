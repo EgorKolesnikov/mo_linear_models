{
 "cells": [
  {
   "cell_type": "code",
   "execution_count": 3,
   "metadata": {},
   "outputs": [],
   "source": [
    "from collections import Counter\n",
    "from sklearn.datasets.samples_generator import make_blobs, make_regression\n",
    "import matplotlib.pyplot as plt\n",
    "from mpl_toolkits.mplot3d import Axes3D\n",
    "import numpy as np\n",
    "%matplotlib inline"
   ]
  },
  {
   "cell_type": "code",
   "execution_count": 4,
   "metadata": {},
   "outputs": [],
   "source": [
    "def save_points(points, classes, file_path):\n",
    "    with open(file_path, 'w') as outf:\n",
    "        outf.write(u'{} {}\\n'.format(len(points), len(points[0])))\n",
    "        for p, c in zip(points, classes):\n",
    "            outf.write(u'{},{}\\n'.format(u','.join(map(str, p)), c))"
   ]
  },
  {
   "cell_type": "markdown",
   "metadata": {},
   "source": [
    "# Generating data"
   ]
  },
  {
   "cell_type": "markdown",
   "metadata": {},
   "source": [
    "### 1) Classification (blobs)"
   ]
  },
  {
   "cell_type": "code",
   "execution_count": 5,
   "metadata": {},
   "outputs": [],
   "source": [
    "def generate_classification(**kwargs):\n",
    "    # n_samples=10000, n_features=3, cluster_std=1.1, centers=centers\n",
    "    points, classes = make_blobs(shuffle=True, random_state=42, **kwargs)\n",
    "    return points, classes"
   ]
  },
  {
   "cell_type": "code",
   "execution_count": 12,
   "metadata": {},
   "outputs": [
    {
     "name": "stdout",
     "output_type": "stream",
     "text": [
      "(100000, 1200) Counter({0: 50000, 1: 50000})\n"
     ]
    }
   ],
   "source": [
    "points, classes = generate_classification(n_samples=100000, n_features=1200, centers=2)\n",
    "print points.shape, Counter(classes)"
   ]
  },
  {
   "cell_type": "code",
   "execution_count": 11,
   "metadata": {},
   "outputs": [],
   "source": [
    "def show_2d_points(points, classes):\n",
    "    for cc in set(classes):\n",
    "        pc = [p for p, c in zip(points, classes) if c == cc]\n",
    "        plt.scatter(*zip(*pc))\n",
    "    plt.show()\n",
    "\n",
    "def show_3d_points(points, classes):\n",
    "    fig = plt.figure()\n",
    "    ax = Axes3D(fig)\n",
    "    for cc in set(classes):\n",
    "        pc = [p for p, c in zip(points, classes) if c == cc]\n",
    "        x, y, z = zip(*pc)\n",
    "        ax.scatter(x, y, z)\n",
    "    plt.show()"
   ]
  },
  {
   "cell_type": "code",
   "execution_count": 12,
   "metadata": {},
   "outputs": [],
   "source": [
    "# show_2d_points(points, classes)\n",
    "# show_3d_points(points, classes)"
   ]
  },
  {
   "cell_type": "code",
   "execution_count": 13,
   "metadata": {},
   "outputs": [],
   "source": [
    "save_points(points, classes, '/home/kolegor/classification.1200d.big.not_linear_separable.txt')"
   ]
  },
  {
   "cell_type": "markdown",
   "metadata": {},
   "source": [
    "### 2) Regression"
   ]
  },
  {
   "cell_type": "code",
   "execution_count": 25,
   "metadata": {},
   "outputs": [],
   "source": [
    "def generate_regression(**kwargs):\n",
    "    # n_samples=10000, n_features=3, cluster_std=1.1, centers=centers\n",
    "    points, classes = make_regression(shuffle=True, random_state=42, **kwargs)\n",
    "    return points, classes"
   ]
  },
  {
   "cell_type": "code",
   "execution_count": 183,
   "metadata": {},
   "outputs": [],
   "source": [
    "# points, classes = generate_regression(n_samples=100, n_features=1, n_informative=1, noise=10)"
   ]
  },
  {
   "cell_type": "code",
   "execution_count": 40,
   "metadata": {},
   "outputs": [],
   "source": [
    "def show_2d_regression(points, classes):\n",
    "    plt.scatter(points, classes)\n",
    "    plt.show()"
   ]
  },
  {
   "cell_type": "code",
   "execution_count": 181,
   "metadata": {},
   "outputs": [],
   "source": [
    "# show_2d_regression(points, classes)"
   ]
  },
  {
   "cell_type": "code",
   "execution_count": 182,
   "metadata": {},
   "outputs": [],
   "source": [
    "# save_points(points, classes, '/home/kolegor/regression.1d.small.not_straight_line.txt')"
   ]
  },
  {
   "cell_type": "markdown",
   "metadata": {},
   "source": [
    "# Plot dataset with model line"
   ]
  },
  {
   "cell_type": "code",
   "execution_count": 24,
   "metadata": {},
   "outputs": [],
   "source": [
    "def load_model_line(path):\n",
    "    with open(path, 'r') as inf:\n",
    "        return map(float, next(inf).strip().split(' '))"
   ]
  },
  {
   "cell_type": "markdown",
   "metadata": {},
   "source": [
    "### 1) Plot regression"
   ]
  },
  {
   "cell_type": "code",
   "execution_count": 25,
   "metadata": {},
   "outputs": [],
   "source": [
    "def load_regression_data(path):\n",
    "    with open(path, 'r') as inf:\n",
    "        count, features = map(int, next(inf).strip().split(' '))\n",
    "        x, y, c = [], [], []\n",
    "        for line in inf:\n",
    "            tokens = map(float, line.strip().split(','))\n",
    "            x.append(tokens[0])\n",
    "            y.append(tokens[1])\n",
    "            c.append(1)\n",
    "        return x, y, c"
   ]
  },
  {
   "cell_type": "code",
   "execution_count": 29,
   "metadata": {},
   "outputs": [],
   "source": [
    "def plot_regression(data, line, norm_line=False):\n",
    "    X, Y, classes = data\n",
    "    plt.scatter(X, Y)\n",
    "\n",
    "    k, b = line\n",
    "    _x = np.linspace(-1000, 1000, 10)\n",
    "    _y = k * _x + b\n",
    "    plt.plot(_x, _y, c='r')\n",
    "    \n",
    "    # MSE\n",
    "    mse = 0.0\n",
    "    for x, y in zip(X, Y):\n",
    "        pred = k * x + b\n",
    "        mse += (pred - y) ** 2\n",
    "    print mse\n",
    "    \n",
    "    plt.ylim([min(Y) - 10, max(Y) + 10])\n",
    "    plt.xlim([min(X) - 10, max(X) + 10])"
   ]
  },
  {
   "cell_type": "code",
   "execution_count": 31,
   "metadata": {},
   "outputs": [],
   "source": [
    "# dataset_name = 'regression.1d.small.straight_line.txt'\n",
    "# data = load_regression_data(\"/home/kolegor/Study/Master/Chapter_4/Big_data_ML/mo_linear_models/test/datasets/\" + dataset_name)\n",
    "# line = load_model_line(\"/home/kolegor/Study/Master/Chapter_4/Big_data_ML/mo_linear_models/test/model.out\")\n",
    "# plot_regression(data, line)"
   ]
  },
  {
   "cell_type": "markdown",
   "metadata": {},
   "source": [
    "### 2) Plot classification"
   ]
  },
  {
   "cell_type": "code",
   "execution_count": 20,
   "metadata": {},
   "outputs": [],
   "source": [
    "def load_classification_data(path):\n",
    "    with open(path, 'r') as inf:\n",
    "        count, features = map(int, next(inf).strip().split(' '))\n",
    "        x, y, c = [], [], []\n",
    "        for line in inf:\n",
    "            tokens = map(float, line.strip().split(','))\n",
    "            x.append(tokens[0])\n",
    "            y.append(tokens[1])\n",
    "            c.append(tokens[2])\n",
    "        return x, y, c\n",
    "\n",
    "def plot_classification_data(data, line):\n",
    "    x, y, classes = data\n",
    "    for cc in set(classes):\n",
    "        pc = [(_x, _y) for _x, _y, _c in zip(x, y, classes) if _c == cc]\n",
    "        plt.scatter(*zip(*pc))\n",
    "    \n",
    "    # w1 * x + w2 * y + w3 = 0\n",
    "    # y = - (w1 * x + w3) / w2 = -(w1/w2)x - w3/w2\n",
    "    k = (line[0] / line[1])\n",
    "    b = -(line[2] / line[1])\n",
    "\n",
    "    _x = np.linspace(-1000, 1000, 10)\n",
    "    _y = k * _x + b\n",
    "    plt.plot(_x, _y)\n",
    "    \n",
    "    plt.ylim([min(y) - 10, max(y) + 10])\n",
    "    plt.xlim([min(x) - 10, max(x) + 10])"
   ]
  },
  {
   "cell_type": "code",
   "execution_count": 23,
   "metadata": {},
   "outputs": [],
   "source": [
    "# dataset_name = 'classification.2d.small.not_linear_separable.txt'\n",
    "# data = load_classification_data(\"/home/kolegor/Study/Master/Chapter_4/Big_data_ML/mo_linear_models/test/datasets/\" + dataset_name)\n",
    "# line = load_model_line(\"/home/kolegor/Study/Master/Chapter_4/Big_data_ML/mo_linear_models/test/model.out\")\n",
    "# plot_classification_data(data, line)"
   ]
  },
  {
   "cell_type": "code",
   "execution_count": null,
   "metadata": {},
   "outputs": [],
   "source": []
  }
 ],
 "metadata": {
  "kernelspec": {
   "display_name": "Python 2",
   "language": "python",
   "name": "python2"
  },
  "language_info": {
   "codemirror_mode": {
    "name": "ipython",
    "version": 2
   },
   "file_extension": ".py",
   "mimetype": "text/x-python",
   "name": "python",
   "nbconvert_exporter": "python",
   "pygments_lexer": "ipython2",
   "version": "2.7.12"
  }
 },
 "nbformat": 4,
 "nbformat_minor": 2
}
